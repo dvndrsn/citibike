{
 "cells": [
  {
   "cell_type": "markdown",
   "metadata": {},
   "source": [
    "# Citibike Trip Data Analysis\n",
    "\n",
    "\n",
    "* who's the fastest for a given station-staion route\n",
    "\n",
    "* what's the longest trip/who are they?\n",
    "\n",
    "* what's the most popular/least popular station (by time of day)\n",
    "\n",
    "* correlation between gender and duration\n",
    "\n",
    "* gender and trip time of day\n",
    "\n",
    "* distance from Google Maps Distance API or haversine distance (crow flies)\n",
    "\n",
    "## Initial setup and data load"
   ]
  },
  {
   "cell_type": "code",
   "execution_count": 1,
   "metadata": {
    "collapsed": false
   },
   "outputs": [
    {
     "name": "stderr",
     "output_type": "stream",
     "text": [
      "/home/dvndrsn/.pyenv/versions/3.5.0/lib/python3.5/site-packages/matplotlib/__init__.py:872: UserWarning: axes.color_cycle is deprecated and replaced with axes.prop_cycle; please use the latter.\n",
      "  warnings.warn(self.msg_depr % (key, alt_key))\n"
     ]
    }
   ],
   "source": [
    "import pandas as pd\n",
    "import seaborn as sns\n",
    "import matplotlib.pyplot as plt\n",
    "from location import location\n",
    "%matplotlib inline"
   ]
  },
  {
   "cell_type": "code",
   "execution_count": 2,
   "metadata": {
    "collapsed": false
   },
   "outputs": [],
   "source": [
    "file = '~/dev/data/citibike/201510-citibike-tripdata.csv'\n",
    "\n",
    "data=pd.read_csv(file, header=0, parse_dates=['starttime','stoptime',])"
   ]
  },
  {
   "cell_type": "markdown",
   "metadata": {},
   "source": [
    "### Parse date parameters"
   ]
  },
  {
   "cell_type": "code",
   "execution_count": 3,
   "metadata": {
    "collapsed": true
   },
   "outputs": [],
   "source": [
    "# parsed this data while loading the CSV now\n",
    "# TODO does not work without errors='raise' but no errors - research if this is a bug!\n",
    "# data['starttime']=pd.to_datetime(data['starttime'],errors='raise')\n",
    "\n",
    "# parse date values from starttime\n",
    "data['date']=data['starttime'].apply(lambda x: x.date())\n",
    "data['year']=data['starttime'].apply(lambda x: x.year)\n",
    "data['month']=data['starttime'].apply(lambda x: x.month)\n",
    "data['day']=data['starttime'].apply(lambda x: x.day)\n",
    "data['weekday']=data['starttime'].apply(lambda x: x.isoweekday())\n",
    "data['hour']=data['starttime'].apply(lambda x: x.hour)"
   ]
  },
  {
   "cell_type": "markdown",
   "metadata": {},
   "source": [
    "### Define distance and location parameters"
   ]
  },
  {
   "cell_type": "code",
   "execution_count": 5,
   "metadata": {
    "collapsed": false
   },
   "outputs": [],
   "source": [
    "data['start_loc']=data.apply(\n",
    "    lambda x:\n",
    "    location(x['start station longitude'],\n",
    "             x['start station latitude']),\n",
    "    axis=1)"
   ]
  },
  {
   "cell_type": "code",
   "execution_count": 6,
   "metadata": {
    "collapsed": false
   },
   "outputs": [],
   "source": [
    "data['end_loc']=data.apply(\n",
    "    lambda x:\n",
    "    location(x['end station longitude'],\n",
    "             x['end station latitude']),\n",
    "    axis=1)"
   ]
  },
  {
   "cell_type": "code",
   "execution_count": 7,
   "metadata": {
    "collapsed": true
   },
   "outputs": [],
   "source": [
    "data['harversine_dist']=data.apply(\n",
    "     lambda x:\n",
    "     x['start_loc'].harversine(x['end_loc']),\n",
    "     axis=1)"
   ]
  },
  {
   "cell_type": "code",
   "execution_count": 8,
   "metadata": {
    "collapsed": true
   },
   "outputs": [],
   "source": [
    "# Assumed speed of 11 Km/h for all users? This is used by citibike\n",
    "# for internal purposes.\n",
    "data['assume_dist']=data['tripduration']* 11 / (60 * 60)"
   ]
  },
  {
   "cell_type": "code",
   "execution_count": 9,
   "metadata": {
    "collapsed": false
   },
   "outputs": [
    {
     "data": {
      "text/plain": [
       "tripduration                        int64\n",
       "starttime                  datetime64[ns]\n",
       "stoptime                   datetime64[ns]\n",
       "start station id                    int64\n",
       "start station name                 object\n",
       "start station latitude            float64\n",
       "start station longitude           float64\n",
       "end station id                      int64\n",
       "end station name                   object\n",
       "end station latitude              float64\n",
       "end station longitude             float64\n",
       "bikeid                              int64\n",
       "usertype                           object\n",
       "birth year                        float64\n",
       "gender                              int64\n",
       "date                               object\n",
       "year                                int64\n",
       "month                               int64\n",
       "day                                 int64\n",
       "weekday                             int64\n",
       "hour                                int64\n",
       "start_loc                          object\n",
       "end_loc                            object\n",
       "harversine_dist                   float64\n",
       "assume_dist                       float64\n",
       "dtype: object"
      ]
     },
     "execution_count": 9,
     "metadata": {},
     "output_type": "execute_result"
    }
   ],
   "source": [
    "data.dtypes"
   ]
  },
  {
   "cell_type": "code",
   "execution_count": 10,
   "metadata": {
    "collapsed": false
   },
   "outputs": [
    {
     "data": {
      "text/html": [
       "<div>\n",
       "<table border=\"1\" class=\"dataframe\">\n",
       "  <thead>\n",
       "    <tr style=\"text-align: right;\">\n",
       "      <th></th>\n",
       "      <th>tripduration</th>\n",
       "      <th>starttime</th>\n",
       "      <th>stoptime</th>\n",
       "      <th>start station id</th>\n",
       "      <th>start station name</th>\n",
       "      <th>start station latitude</th>\n",
       "      <th>start station longitude</th>\n",
       "      <th>end station id</th>\n",
       "      <th>end station name</th>\n",
       "      <th>end station latitude</th>\n",
       "      <th>...</th>\n",
       "      <th>date</th>\n",
       "      <th>year</th>\n",
       "      <th>month</th>\n",
       "      <th>day</th>\n",
       "      <th>weekday</th>\n",
       "      <th>hour</th>\n",
       "      <th>start_loc</th>\n",
       "      <th>end_loc</th>\n",
       "      <th>harversine_dist</th>\n",
       "      <th>assume_dist</th>\n",
       "    </tr>\n",
       "  </thead>\n",
       "  <tbody>\n",
       "    <tr>\n",
       "      <th>0</th>\n",
       "      <td>171</td>\n",
       "      <td>2015-10-01 00:00:02</td>\n",
       "      <td>2015-10-01 00:02:54</td>\n",
       "      <td>388</td>\n",
       "      <td>W 26 St &amp; 10 Ave</td>\n",
       "      <td>40.749718</td>\n",
       "      <td>-74.002950</td>\n",
       "      <td>494</td>\n",
       "      <td>W 26 St &amp; 8 Ave</td>\n",
       "      <td>40.747348</td>\n",
       "      <td>...</td>\n",
       "      <td>2015-10-01</td>\n",
       "      <td>2015</td>\n",
       "      <td>10</td>\n",
       "      <td>1</td>\n",
       "      <td>4</td>\n",
       "      <td>0</td>\n",
       "      <td>(40.75, -74.00)</td>\n",
       "      <td>(40.75, -74.00)</td>\n",
       "      <td>548.797673</td>\n",
       "      <td>0.522500</td>\n",
       "    </tr>\n",
       "    <tr>\n",
       "      <th>1</th>\n",
       "      <td>593</td>\n",
       "      <td>2015-10-01 00:00:02</td>\n",
       "      <td>2015-10-01 00:09:55</td>\n",
       "      <td>518</td>\n",
       "      <td>E 39 St &amp; 2 Ave</td>\n",
       "      <td>40.747804</td>\n",
       "      <td>-73.973442</td>\n",
       "      <td>438</td>\n",
       "      <td>St Marks Pl &amp; 1 Ave</td>\n",
       "      <td>40.727791</td>\n",
       "      <td>...</td>\n",
       "      <td>2015-10-01</td>\n",
       "      <td>2015</td>\n",
       "      <td>10</td>\n",
       "      <td>1</td>\n",
       "      <td>4</td>\n",
       "      <td>0</td>\n",
       "      <td>(40.75, -73.97)</td>\n",
       "      <td>(40.73, -73.99)</td>\n",
       "      <td>2451.478905</td>\n",
       "      <td>1.811944</td>\n",
       "    </tr>\n",
       "    <tr>\n",
       "      <th>2</th>\n",
       "      <td>233</td>\n",
       "      <td>2015-10-01 00:00:11</td>\n",
       "      <td>2015-10-01 00:04:05</td>\n",
       "      <td>447</td>\n",
       "      <td>8 Ave &amp; W 52 St</td>\n",
       "      <td>40.763707</td>\n",
       "      <td>-73.985162</td>\n",
       "      <td>447</td>\n",
       "      <td>8 Ave &amp; W 52 St</td>\n",
       "      <td>40.763707</td>\n",
       "      <td>...</td>\n",
       "      <td>2015-10-01</td>\n",
       "      <td>2015</td>\n",
       "      <td>10</td>\n",
       "      <td>1</td>\n",
       "      <td>4</td>\n",
       "      <td>0</td>\n",
       "      <td>(40.76, -73.99)</td>\n",
       "      <td>(40.76, -73.99)</td>\n",
       "      <td>0.000000</td>\n",
       "      <td>0.711944</td>\n",
       "    </tr>\n",
       "    <tr>\n",
       "      <th>3</th>\n",
       "      <td>250</td>\n",
       "      <td>2015-10-01 00:00:15</td>\n",
       "      <td>2015-10-01 00:04:25</td>\n",
       "      <td>336</td>\n",
       "      <td>Sullivan St &amp; Washington Sq</td>\n",
       "      <td>40.730477</td>\n",
       "      <td>-73.999061</td>\n",
       "      <td>223</td>\n",
       "      <td>W 13 St &amp; 7 Ave</td>\n",
       "      <td>40.737815</td>\n",
       "      <td>...</td>\n",
       "      <td>2015-10-01</td>\n",
       "      <td>2015</td>\n",
       "      <td>10</td>\n",
       "      <td>1</td>\n",
       "      <td>4</td>\n",
       "      <td>0</td>\n",
       "      <td>(40.73, -74.00)</td>\n",
       "      <td>(40.74, -74.00)</td>\n",
       "      <td>819.313876</td>\n",
       "      <td>0.763889</td>\n",
       "    </tr>\n",
       "    <tr>\n",
       "      <th>4</th>\n",
       "      <td>528</td>\n",
       "      <td>2015-10-01 00:00:17</td>\n",
       "      <td>2015-10-01 00:09:05</td>\n",
       "      <td>3107</td>\n",
       "      <td>Bedford Ave &amp; Nassau Ave</td>\n",
       "      <td>40.723117</td>\n",
       "      <td>-73.952123</td>\n",
       "      <td>539</td>\n",
       "      <td>Metropolitan Ave &amp; Bedford Ave</td>\n",
       "      <td>40.715348</td>\n",
       "      <td>...</td>\n",
       "      <td>2015-10-01</td>\n",
       "      <td>2015</td>\n",
       "      <td>10</td>\n",
       "      <td>1</td>\n",
       "      <td>4</td>\n",
       "      <td>0</td>\n",
       "      <td>(40.72, -73.95)</td>\n",
       "      <td>(40.72, -73.96)</td>\n",
       "      <td>1101.904913</td>\n",
       "      <td>1.613333</td>\n",
       "    </tr>\n",
       "  </tbody>\n",
       "</table>\n",
       "<p>5 rows × 25 columns</p>\n",
       "</div>"
      ],
      "text/plain": [
       "   tripduration           starttime            stoptime  start station id  \\\n",
       "0           171 2015-10-01 00:00:02 2015-10-01 00:02:54               388   \n",
       "1           593 2015-10-01 00:00:02 2015-10-01 00:09:55               518   \n",
       "2           233 2015-10-01 00:00:11 2015-10-01 00:04:05               447   \n",
       "3           250 2015-10-01 00:00:15 2015-10-01 00:04:25               336   \n",
       "4           528 2015-10-01 00:00:17 2015-10-01 00:09:05              3107   \n",
       "\n",
       "            start station name  start station latitude  \\\n",
       "0             W 26 St & 10 Ave               40.749718   \n",
       "1              E 39 St & 2 Ave               40.747804   \n",
       "2              8 Ave & W 52 St               40.763707   \n",
       "3  Sullivan St & Washington Sq               40.730477   \n",
       "4     Bedford Ave & Nassau Ave               40.723117   \n",
       "\n",
       "   start station longitude  end station id                end station name  \\\n",
       "0               -74.002950             494                 W 26 St & 8 Ave   \n",
       "1               -73.973442             438             St Marks Pl & 1 Ave   \n",
       "2               -73.985162             447                 8 Ave & W 52 St   \n",
       "3               -73.999061             223                 W 13 St & 7 Ave   \n",
       "4               -73.952123             539  Metropolitan Ave & Bedford Ave   \n",
       "\n",
       "   end station latitude     ...             date  year month  day  weekday  \\\n",
       "0             40.747348     ...       2015-10-01  2015    10    1        4   \n",
       "1             40.727791     ...       2015-10-01  2015    10    1        4   \n",
       "2             40.763707     ...       2015-10-01  2015    10    1        4   \n",
       "3             40.737815     ...       2015-10-01  2015    10    1        4   \n",
       "4             40.715348     ...       2015-10-01  2015    10    1        4   \n",
       "\n",
       "  hour        start_loc          end_loc  harversine_dist  assume_dist  \n",
       "0    0  (40.75, -74.00)  (40.75, -74.00)       548.797673     0.522500  \n",
       "1    0  (40.75, -73.97)  (40.73, -73.99)      2451.478905     1.811944  \n",
       "2    0  (40.76, -73.99)  (40.76, -73.99)         0.000000     0.711944  \n",
       "3    0  (40.73, -74.00)  (40.74, -74.00)       819.313876     0.763889  \n",
       "4    0  (40.72, -73.95)  (40.72, -73.96)      1101.904913     1.613333  \n",
       "\n",
       "[5 rows x 25 columns]"
      ]
     },
     "execution_count": 10,
     "metadata": {},
     "output_type": "execute_result"
    }
   ],
   "source": [
    "data.head()"
   ]
  },
  {
   "cell_type": "markdown",
   "metadata": {
    "collapsed": false
   },
   "source": [
    "## Citibike - Trips by Age\n",
    "Noted a few gaps for different years. Any possible data issues with file provided by Citibike?"
   ]
  },
  {
   "cell_type": "code",
   "execution_count": 11,
   "metadata": {
    "collapsed": false
   },
   "outputs": [],
   "source": [
    "# Ignore trip data with birth years before 1930\n",
    "# TODO - investigate birth year before 1930 - data issue?\n",
    "birth=data[data['birth year']>1930].dropna()['birth year']"
   ]
  },
  {
   "cell_type": "code",
   "execution_count": 12,
   "metadata": {
    "collapsed": false
   },
   "outputs": [
    {
     "data": {
      "text/plain": [
       "<matplotlib.axes._subplots.AxesSubplot at 0x7fab1382d2e8>"
      ]
     },
     "execution_count": 12,
     "metadata": {},
     "output_type": "execute_result"
    },
    {
     "data": {
      "image/png": "[encoded data removed]",
      "text/plain": [
       "<matplotlib.figure.Figure at 0x7faafe264c88>"
      ]
     },
     "metadata": {},
     "output_type": "display_data"
    }
   ],
   "source": [
    "# histogram of birth year\n",
    "sns.distplot(birth, bins=75, kde=False) \n",
    "#, bins=50, range=(1930,2010), kde = True)"
   ]
  },
  {
   "cell_type": "markdown",
   "metadata": {},
   "source": [
    "## Trips by hour"
   ]
  },
  {
   "cell_type": "code",
   "execution_count": 13,
   "metadata": {
    "collapsed": false
   },
   "outputs": [],
   "source": [
    "timedata=data\n",
    "# http://pandas.pydata.org/pandas-docs/version/0.17.0/generated/pandas.to_datetime.html\n"
   ]
  },
  {
   "cell_type": "code",
   "execution_count": 14,
   "metadata": {
    "collapsed": false
   },
   "outputs": [],
   "source": [
    "\n",
    "# type(timedata['starttime'][7])\n",
    "\n",
    "# pd.to_datetime(timedata['starttime'][1:1])"
   ]
  },
  {
   "cell_type": "code",
   "execution_count": 15,
   "metadata": {
    "collapsed": false
   },
   "outputs": [
    {
     "data": {
      "text/plain": [
       "<matplotlib.axes._subplots.AxesSubplot at 0x7fab0a991828>"
      ]
     },
     "execution_count": 15,
     "metadata": {},
     "output_type": "execute_result"
    },
    {
     "data": {
      "image/png": "[encoded data removed]",
      "text/plain": [
       "<matplotlib.figure.Figure at 0x7fab0a412390>"
      ]
     },
     "metadata": {},
     "output_type": "display_data"
    }
   ],
   "source": [
    "sns.distplot(timedata['hour'],kde=False, bins=24)"
   ]
  },
  {
   "cell_type": "markdown",
   "metadata": {},
   "source": [
    "## Hourly Trips by Gender\n",
    "0 - Unknown\n",
    "1 - Male\n",
    "2 - Female\n",
    "\n",
    "Men and women have similar usage patters, unknown gender (typically casual customer) takes trip mainly during the day."
   ]
  },
  {
   "cell_type": "code",
   "execution_count": 16,
   "metadata": {
    "collapsed": false
   },
   "outputs": [
    {
     "data": {
      "text/plain": [
       "array([[<matplotlib.axes._subplots.AxesSubplot object at 0x7fab088ac438>,\n",
       "        <matplotlib.axes._subplots.AxesSubplot object at 0x7fab0d582e80>],\n",
       "       [<matplotlib.axes._subplots.AxesSubplot object at 0x7fab0d71d860>,\n",
       "        <matplotlib.axes._subplots.AxesSubplot object at 0x7fab0d85e588>]], dtype=object)"
      ]
     },
     "execution_count": 16,
     "metadata": {},
     "output_type": "execute_result"
    },
    {
     "data": {
      "image/png": "[encoded data removed]",
      "text/plain": [
       "<matplotlib.figure.Figure at 0x7fab090f8d68>"
      ]
     },
     "metadata": {},
     "output_type": "display_data"
    }
   ],
   "source": [
    "timedata['hour'].hist(by=timedata['gender'],bins=24)"
   ]
  },
  {
   "cell_type": "markdown",
   "metadata": {},
   "source": [
    "### Average trip length for each user type / gender\n",
    "We can see that male subscribers typically take shorter trips than female subscfibers. Casual customers, on average take more than twice as long as any subscribers.\n",
    "* How does the length of trips taken by men and women subcribers compare? Are men being faster/more reckless while biking (running red lights, etc.)?\n",
    "* The average length of a casual member's trip is 8 minutes longer than the alloted limit for casual members (30 minutes), which will incur extra charges. What are the average extra charges incurred by customers/subscribers?\n"
   ]
  },
  {
   "cell_type": "code",
   "execution_count": 17,
   "metadata": {
    "collapsed": false
   },
   "outputs": [
    {
     "data": {
      "text/plain": [
       "usertype    gender\n",
       "Customer    0         38.460647\n",
       "Subscriber  0         18.231131\n",
       "            1         14.247137\n",
       "            2         18.116207\n",
       "Name: tripduration, dtype: float64"
      ]
     },
     "execution_count": 17,
     "metadata": {},
     "output_type": "execute_result"
    }
   ],
   "source": [
    "timedata.groupby(['usertype','gender'])['tripduration'].mean()/60"
   ]
  },
  {
   "cell_type": "markdown",
   "metadata": {},
   "source": [
    "### Count of trip records for user type/gender\n",
    "We can see that Male subscribers take significantly more trips than female subscribers or casual customers.\n",
    "* What are the number of active subscribers for men vs. women? Any way to determine this?"
   ]
  },
  {
   "cell_type": "code",
   "execution_count": 18,
   "metadata": {
    "collapsed": false
   },
   "outputs": [
    {
     "data": {
      "text/plain": [
       "usertype    gender\n",
       "Customer    0         146511\n",
       "Subscriber  0           1877\n",
       "            1         807097\n",
       "            2         256792\n",
       "Name: bikeid, dtype: int64"
      ]
     },
     "execution_count": 18,
     "metadata": {},
     "output_type": "execute_result"
    }
   ],
   "source": [
    "# arbirary column selected (bikeid) \n",
    "timedata.groupby(['usertype','gender'])['bikeid'].count()"
   ]
  },
  {
   "cell_type": "markdown",
   "metadata": {},
   "source": [
    "## Distance calculations\n",
    "### Average distance (Km) by gender / user type\n",
    "Interestingly, the average distance traveled is pretty much the same across all user types"
   ]
  },
  {
   "cell_type": "code",
   "execution_count": 19,
   "metadata": {
    "collapsed": false
   },
   "outputs": [
    {
     "data": {
      "text/plain": [
       "usertype    gender\n",
       "Customer    0         1851.072367\n",
       "Subscriber  0         1741.759819\n",
       "            1         1736.977762\n",
       "            2         1807.581307\n",
       "Name: harversine_dist, dtype: float64"
      ]
     },
     "execution_count": 19,
     "metadata": {},
     "output_type": "execute_result"
    }
   ],
   "source": [
    "timedata.groupby(['usertype','gender'])['harversine_dist'].mean()"
   ]
  },
  {
   "cell_type": "markdown",
   "metadata": {},
   "source": [
    "### Average speed (Km/h) by gender / user type\n",
    "Men are covering more ground than women subscribers. Tourists are slow!\n",
    "\n",
    "Note: calculations use harversine distance (as crow flies) so actual distance traveled should be longer (and speed should be higher).\n",
    "\n",
    "For cyclists in Copenhagen, the average cycling speed is 15.5 km/h (9.6 mph). On a racing bicycle, a reasonably fit rider can ride at 40 km/h (25 mph) on flat ground for short periods. [Wikipedia](https://en.wikipedia.org/wiki/Bicycle_performance#Typical_speeds)"
   ]
  },
  {
   "cell_type": "code",
   "execution_count": 20,
   "metadata": {
    "collapsed": false
   },
   "outputs": [
    {
     "data": {
      "text/plain": [
       "usertype    gender\n",
       "Customer    0         2887.739842\n",
       "Subscriber  0         5732.260263\n",
       "            1         7315.060040\n",
       "            2         5986.621740\n",
       "dtype: float64"
      ]
     },
     "execution_count": 20,
     "metadata": {},
     "output_type": "execute_result"
    }
   ],
   "source": [
    "timedata.groupby(['usertype','gender'])['harversine_dist'].mean()/ \\\n",
    "(timedata.groupby(['usertype','gender'])['tripduration'].mean() / (60 * 60))"
   ]
  },
  {
   "cell_type": "markdown",
   "metadata": {},
   "source": [
    "### Estimate Potential errorby Harversine Distance?\n",
    "Typically assumed distance (with constant speed 7 Km/h) is 2 Km less than calculated harversine distance."
   ]
  },
  {
   "cell_type": "code",
   "execution_count": 21,
   "metadata": {
    "collapsed": false
   },
   "outputs": [
    {
     "data": {
      "text/plain": [
       "usertype    gender\n",
       "Customer    0         1844.021248\n",
       "Subscriber  0         1738.417445\n",
       "            1         1734.365787\n",
       "            2         1804.260002\n",
       "dtype: float64"
      ]
     },
     "execution_count": 21,
     "metadata": {},
     "output_type": "execute_result"
    }
   ],
   "source": [
    "timedata.groupby(['usertype','gender'])['harversine_dist'].mean() - \\\n",
    "timedata.groupby(['usertype','gender'])['assume_dist'].mean()\n"
   ]
  },
  {
   "cell_type": "markdown",
   "metadata": {
    "collapsed": true
   },
   "source": [
    "## Next steps\n",
    "* More pretty graphs of new calculated data.\n",
    "* Use [Google Maps Distance matrix API](https://developers.google.com/maps/documentation/distance-matrix/intro) to calculate the optimal distance between stations.\n",
    "* Output some summary of bikes in/bikes out by station ID, \n",
    "* Graph of a particular bike's travels in a month, with stations as nodes\n",
    "* Get some weather data [Weather UnderGround API](http://www.wunderground.com/weather/api/d/docs?d=data/astronomy)\n",
    " * Sunrise/sunset\n",
    " * cloud/sun/rain/snow\n",
    " * wind?\n",
    " * phase of moon (for werewolf brookylnites biking after midnight)\n",
    "* Build a model using bikes in, bikes out as a function of location (lat/long), time (year, month, day of week, hour... [holiday](https://pypi.python.org/pypi/holidays)?) and conditions (temperature, precip, etc.)"
   ]
  },
  {
   "cell_type": "code",
   "execution_count": null,
   "metadata": {
    "collapsed": true
   },
   "outputs": [],
   "source": []
  }
 ],
 "metadata": {
  "kernelspec": {
   "display_name": "Python 3",
   "language": "python",
   "name": "python3"
  },
  "language_info": {
   "codemirror_mode": {
    "name": "ipython",
    "version": 3
   },
   "file_extension": ".py",
   "mimetype": "text/x-python",
   "name": "python",
   "nbconvert_exporter": "python",
   "pygments_lexer": "ipython3",
   "version": "3.5.0"
  }
 },
 "nbformat": 4,
 "nbformat_minor": 0
}
